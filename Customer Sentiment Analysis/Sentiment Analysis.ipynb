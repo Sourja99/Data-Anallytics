
1. Install dependencies

!pip install -q transformers


2. Run sentiment analysis predictions by using Pipeline

# Using pipeline class to make predictions from models available in the Hub in an easy way 
from transformers import pipeline
sentiment_pipeline = pipeline("sentiment-analysis")
data = ["I love you", "I hate you"]
sentiment_pipeline(data)


3. Use a specific sentiment analysis model available on the Hub by specifying its name

# Using a specific model for sentiment analysis
specific_model = pipeline(model="finiteautomata/bertweet-base-sentiment-analysis")
specific_model(data)