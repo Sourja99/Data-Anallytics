{
 "cells": [
  {
   "cell_type": "markdown",
   "id": "23d9c035",
   "metadata": {
    "papermill": {
     "duration": 0.00311,
     "end_time": "2021-11-08T23:51:49.991282",
     "exception": false,
     "start_time": "2021-11-08T23:51:49.988172",
     "status": "completed"
    },
    "tags": []
   },
   "source": [
    "Data scientists tend to focus on **prediction** because that's where conventional machine learning excels. But real world decision-making involves both prediction and **optimization**.  After predicting what will happen, you decide what to do about it.\n",
    "\n",
    "Optimization gets less attention than it deserves. So this micro-challenge will test your optimization skills as you write a function to improve how airlines set prices.\n",
    "\n",
    "![Imgur](https://i.imgur.com/AKrbLMR.jpg)\n",
    "\n",
   
   ]
  }
