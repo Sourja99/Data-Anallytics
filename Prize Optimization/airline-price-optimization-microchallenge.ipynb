{
 "cells": [
  {
   "cell_type": "markdown",
   "id": "23d9c035",
   "metadata": {
    "papermill": {
     "duration": 0.00311,
     "end_time": "2021-11-08T23:51:49.991282",
     "exception": false,
     "start_time": "2021-11-08T23:51:49.988172",
     "status": "completed"
    },
    "tags": []
   },
   "source": [
    "Data scientists tend to focus on **prediction** because that's where conventional machine learning excels. But real world decision-making involves both prediction and **optimization**.  After predicting what will happen, you decide what to do about it.\n",
    "\n",
    "Optimization gets less attention than it deserves. So this micro-challenge will test your optimization skills as you write a function to improve how airlines set prices.\n",
    "\n",
    "![Imgur](https://i.imgur.com/AKrbLMR.jpg)\n",
    "\n",
    "# Your turn\n",
    "\n",
    "[**Set airline prices**](https://www.kaggle.com/kernels/fork/1343121) in the exercise."
   ]
  },
  {
   "cell_type": "markdown",
   "id": "33e41542",
   "metadata": {
    "papermill": {
     "duration": 0.00167,
     "end_time": "2021-11-08T23:51:49.995290",
     "exception": false,
     "start_time": "2021-11-08T23:51:49.993620",
     "status": "completed"
    },
    "tags": []
   },
   "source": [
    "---\n",
    "\n",
    "\n",
    "\n",
    "\n",
    "*Have questions or comments? Visit the [course discussion forum](https://www.kaggle.com/learn/microchallenges/discussion) to chat with other learners.*"
   ]
  }
 ],
 "metadata": {
  "kernelspec": {
   "display_name": "Python 3",
   "language": "python",
   "name": "python3"
  },
  "language_info": {
   "codemirror_mode": {
    "name": "ipython",
    "version": 3
   },
   "file_extension": ".py",
   "mimetype": "text/x-python",
   "name": "python",
   "nbconvert_exporter": "python",
   "pygments_lexer": "ipython3",
   "version": "3.7.10"
  },
  "papermill": {
   "default_parameters": {},
   "duration": 8.812688,
   "end_time": "2021-11-08T23:51:50.610642",
   "environment_variables": {},
   "exception": null,
   "input_path": "__notebook__.ipynb",
   "output_path": "__notebook__.ipynb",
   "parameters": {},
   "start_time": "2021-11-08T23:51:41.797954",
   "version": "2.3.3"
  }
 },
 "nbformat": 4,
 "nbformat_minor": 5
}
